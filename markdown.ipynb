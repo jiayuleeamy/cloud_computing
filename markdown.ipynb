{
  "nbformat": 4,
  "nbformat_minor": 0,
  "metadata": {
    "colab": {
      "provenance": [],
      "authorship_tag": "ABX9TyPr3QuzCLjy8GWjqgKQvYHq",
      "include_colab_link": true
    },
    "kernelspec": {
      "name": "python3",
      "display_name": "Python 3"
    },
    "language_info": {
      "name": "python"
    }
  },
  "cells": [
    {
      "cell_type": "markdown",
      "metadata": {
        "id": "view-in-github",
        "colab_type": "text"
      },
      "source": [
        "<a href=\"https://colab.research.google.com/github/jiayuleeamy/cloud_computing/blob/main/markdown.ipynb\" target=\"_parent\"><img src=\"https://colab.research.google.com/assets/colab-badge.svg\" alt=\"Open In Colab\"/></a>"
      ]
    },
    {
      "cell_type": "markdown",
      "source": [
        "# Create Markdown in Jupyter task\n",
        "\n",
        "* Use Jupyter Notebook to practice repeatable technical documentation skills."
      ],
      "metadata": {
        "id": "AtN3JEhJMQE_"
      }
    },
    {
      "cell_type": "markdown",
      "source": [
        "# Module"
      ],
      "metadata": {
        "id": "G-SdNHZxMwum"
      }
    },
    {
      "cell_type": "code",
      "execution_count": 3,
      "metadata": {
        "colab": {
          "base_uri": "https://localhost:8080/"
        },
        "id": "esdDch2OBoE5",
        "outputId": "3a61edff-d026-46b7-a935-a69ab8d280dc"
      },
      "outputs": [
        {
          "output_type": "stream",
          "name": "stdout",
          "text": [
            "hello world\n"
          ]
        }
      ],
      "source": [
        "print(\"hello world\")"
      ]
    },
    {
      "cell_type": "markdown",
      "source": [
        "# [Other ideas implemention](https://docs.github.com/en/get-started/writing-on-github/getting-started-with-writing-and-formatting-on-github/basic-writing-and-formatting-syntax)\n",
        "1. import image\n",
        "\n",
        "2. create list\n",
        "  - item1\n",
        "    - description of item1\n",
        "    - _italicized of item1_\n",
        "    - *** bold and italic of item1***\n",
        "  - item2[^1]\n",
        "\n",
        "\n",
        "\n",
        "[^1]: myreference\n"
      ],
      "metadata": {
        "id": "cnTuIYPUM_7v"
      }
    },
    {
      "cell_type": "code",
      "source": [],
      "metadata": {
        "id": "GDujBAwDDijv"
      },
      "execution_count": null,
      "outputs": []
    }
  ]
}